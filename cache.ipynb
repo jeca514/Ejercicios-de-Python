{
 "cells": [
  {
   "cell_type": "markdown",
   "metadata": {},
   "source": [
    "# cache forma uno"
   ]
  },
  {
   "cell_type": "code",
   "execution_count": 4,
   "metadata": {},
   "outputs": [],
   "source": [
    "def es_primo_concache(num, _cache={}):\n",
    "    if num not in _cache:\n",
    "        _cache[num] = True\n",
    "        for n in range(2, num):\n",
    "            if num % n == 0:\n",
    "                _cache[num] = False\n",
    "                break\n",
    "    return _cache[num]"
   ]
  },
  {
   "cell_type": "code",
   "execution_count": null,
   "metadata": {},
   "outputs": [
    {
     "name": "stdout",
     "output_type": "stream",
     "text": [
      "primera ejecucion 0.9252705574035645\n",
      "segunda ejecucion 5.340576171875e-05\n"
     ]
    }
   ],
   "source": [
    "\n",
    "import time\n",
    "tic = time.time()\n",
    "es_primo_concache(25565479)\n",
    "print(f\"primera ejecucion {time.time() - tic}\")\n",
    "\n",
    "tic = time.time()\n",
    "es_primo_concache(25565479)\n",
    "print(f\"segunda ejecucion {time.time() - tic}\")"
   ]
  },
  {
   "cell_type": "markdown",
   "metadata": {},
   "source": [
    "# con el decorador lru_cache de functools podemos cachear los resultados de una función para no tener que recalcularlos si ya los hemos calculado antes"
   ]
  },
  {
   "cell_type": "code",
   "execution_count": 6,
   "metadata": {},
   "outputs": [],
   "source": [
    "from functools import lru_cache\n",
    "\n",
    "@lru_cache(maxsize=32)\n",
    "def es_primo_concache_v2(num):\n",
    "    for n in range(2, num):\n",
    "        if num % n == 0:\n",
    "            return False\n",
    "    return True"
   ]
  },
  {
   "cell_type": "code",
   "execution_count": 7,
   "metadata": {},
   "outputs": [
    {
     "name": "stdout",
     "output_type": "stream",
     "text": [
      "0.980126142501831\n",
      "4.410743713378906e-05\n"
     ]
    }
   ],
   "source": [
    "import time\n",
    "tic = time.time()\n",
    "es_primo_concache_v2(25565479)\n",
    "print(time.time() - tic)\n",
    "\n",
    "tic = time.time()\n",
    "es_primo_concache_v2(25565479)\n",
    "print(time.time() - tic)\n",
    "\n",
    "# 3.9316678047180176\n",
    "# 3.0994415283203125e-06"
   ]
  }
 ],
 "metadata": {
  "kernelspec": {
   "display_name": ".venv",
   "language": "python",
   "name": "python3"
  },
  "language_info": {
   "codemirror_mode": {
    "name": "ipython",
    "version": 3
   },
   "file_extension": ".py",
   "mimetype": "text/x-python",
   "name": "python",
   "nbconvert_exporter": "python",
   "pygments_lexer": "ipython3",
   "version": "3.11.2"
  }
 },
 "nbformat": 4,
 "nbformat_minor": 2
}
