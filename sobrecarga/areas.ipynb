{
 "cells": [
  {
   "cell_type": "code",
   "execution_count": 1,
   "metadata": {},
   "outputs": [
    {
     "ename": "ModuleNotFoundError",
     "evalue": "No module named 'multipledispatch'",
     "output_type": "error",
     "traceback": [
      "\u001b[1;31m---------------------------------------------------------------------------\u001b[0m",
      "\u001b[1;31mModuleNotFoundError\u001b[0m                       Traceback (most recent call last)",
      "Cell \u001b[1;32mIn[1], line 1\u001b[0m\n\u001b[1;32m----> 1\u001b[0m \u001b[38;5;28;01mfrom\u001b[39;00m\u001b[38;5;250m \u001b[39m\u001b[38;5;21;01mmultipledispatch\u001b[39;00m\u001b[38;5;250m \u001b[39m\u001b[38;5;28;01mimport\u001b[39;00m dispatch\n\u001b[0;32m      2\u001b[0m \u001b[38;5;28;01mimport\u001b[39;00m\u001b[38;5;250m \u001b[39m\u001b[38;5;21;01mmath\u001b[39;00m\n\u001b[0;32m      4\u001b[0m \u001b[38;5;129m@dispatch\u001b[39m(\u001b[38;5;28mfloat\u001b[39m)  \u001b[38;5;66;03m# Para el radio del círculo\u001b[39;00m\n\u001b[0;32m      5\u001b[0m \u001b[38;5;129m@dispatch\u001b[39m(\u001b[38;5;28mint\u001b[39m)\n\u001b[0;32m      6\u001b[0m \u001b[38;5;28;01mdef\u001b[39;00m\u001b[38;5;250m \u001b[39m\u001b[38;5;21marea\u001b[39m(radio):\n",
      "\u001b[1;31mModuleNotFoundError\u001b[0m: No module named 'multipledispatch'"
     ]
    }
   ],
   "source": [
    "from multipledispatch import dispatch\n",
    "import math\n",
    "\n",
    "@dispatch(float)  # Para el radio del círculo\n",
    "@dispatch(int)\n",
    "def area(radio):\n",
    "    return math.pi * radio ** 2\n",
    "\n",
    "@dispatch(float, float)  # Para el lado del cuadrado\n",
    "@dispatch(int, int)\n",
    "def area(lado1, lado2):\n",
    "    return lado1 * lado2\n",
    "\n",
    "# Ejemplos de uso\n",
    "print(area(5))        # Área de un círculo con radio 5\n",
    "print(area(4.0))      # Área de un círculo con radio 4.0\n",
    "print(area(4, 4))     # Área de un cuadrado con lado 4\n",
    "print(area(3.5, 3.5)) # Área de un cuadrado con lado 3.5\n"
   ]
  }
 ],
 "metadata": {
  "kernelspec": {
   "display_name": "Python 3",
   "language": "python",
   "name": "python3"
  },
  "language_info": {
   "codemirror_mode": {
    "name": "ipython",
    "version": 3
   },
   "file_extension": ".py",
   "mimetype": "text/x-python",
   "name": "python",
   "nbconvert_exporter": "python",
   "pygments_lexer": "ipython3",
   "version": "3.11.9"
  }
 },
 "nbformat": 4,
 "nbformat_minor": 2
}
