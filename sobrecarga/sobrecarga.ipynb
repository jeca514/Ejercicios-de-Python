{
 "cells": [
  {
   "cell_type": "markdown",
   "metadata": {},
   "source": [
    "# @singledispatch\n"
   ]
  },
  {
   "cell_type": "markdown",
   "metadata": {},
   "source": [
    "## como no aplicar el decorador singledispatch\n"
   ]
  },
  {
   "cell_type": "code",
   "execution_count": 27,
   "metadata": {},
   "outputs": [],
   "source": [
    "from functools import singledispatch\n",
    "\n",
    "class Calculadora:\n",
    "    @singledispatch\n",
    "    def sumar(self, a, b):\n",
    "        return a + b\n",
    "\n",
    "    @sumar.register(int)\n",
    "    def _(self, a, b, c):\n",
    "        n = a + b \n",
    "        return n + c\n",
    "\n",
    "    @sumar.register(float)\n",
    "    def _(self, a, b):\n",
    "        return a + b\n"
   ]
  },
  {
   "cell_type": "code",
   "execution_count": 28,
   "metadata": {},
   "outputs": [
    {
     "name": "stdout",
     "output_type": "stream",
     "text": [
      "Resultado de sumar 1 y 2: 3\n",
      "Resultado de sumar 1.5 y 2.5: 4.0\n"
     ]
    },
    {
     "ename": "TypeError",
     "evalue": "Calculadora.sumar() takes 3 positional arguments but 4 were given",
     "output_type": "error",
     "traceback": [
      "\u001b[0;31m---------------------------------------------------------------------------\u001b[0m",
      "\u001b[0;31mTypeError\u001b[0m                                 Traceback (most recent call last)",
      "Cell \u001b[0;32mIn[28], line 12\u001b[0m\n\u001b[1;32m      9\u001b[0m \u001b[38;5;28mprint\u001b[39m(\u001b[38;5;124mf\u001b[39m\u001b[38;5;124m\"\u001b[39m\u001b[38;5;124mResultado de sumar 1.5 y 2.5: \u001b[39m\u001b[38;5;132;01m{\u001b[39;00mresultado3\u001b[38;5;132;01m}\u001b[39;00m\u001b[38;5;124m\"\u001b[39m)\n\u001b[1;32m     11\u001b[0m \u001b[38;5;66;03m# Usar el método sumar con tres enteros\u001b[39;00m\n\u001b[0;32m---> 12\u001b[0m resultado2 \u001b[38;5;241m=\u001b[39m \u001b[43mcalc\u001b[49m\u001b[38;5;241;43m.\u001b[39;49m\u001b[43msumar\u001b[49m\u001b[43m(\u001b[49m\u001b[38;5;241;43m1\u001b[39;49m\u001b[43m,\u001b[49m\u001b[43m \u001b[49m\u001b[38;5;241;43m2\u001b[39;49m\u001b[43m,\u001b[49m\u001b[43m \u001b[49m\u001b[38;5;241;43m3\u001b[39;49m\u001b[43m)\u001b[49m\n\u001b[1;32m     13\u001b[0m \u001b[38;5;28mprint\u001b[39m(\u001b[38;5;124mf\u001b[39m\u001b[38;5;124m\"\u001b[39m\u001b[38;5;124mResultado de sumar 1, 2 y 3: \u001b[39m\u001b[38;5;132;01m{\u001b[39;00mresultado2\u001b[38;5;132;01m}\u001b[39;00m\u001b[38;5;124m\"\u001b[39m)\n",
      "File \u001b[0;32m/usr/lib/python3.11/functools.py:909\u001b[0m, in \u001b[0;36msingledispatch.<locals>.wrapper\u001b[0;34m(*args, **kw)\u001b[0m\n\u001b[1;32m    905\u001b[0m \u001b[38;5;28;01mif\u001b[39;00m \u001b[38;5;129;01mnot\u001b[39;00m args:\n\u001b[1;32m    906\u001b[0m     \u001b[38;5;28;01mraise\u001b[39;00m \u001b[38;5;167;01mTypeError\u001b[39;00m(\u001b[38;5;124mf\u001b[39m\u001b[38;5;124m'\u001b[39m\u001b[38;5;132;01m{\u001b[39;00mfuncname\u001b[38;5;132;01m}\u001b[39;00m\u001b[38;5;124m requires at least \u001b[39m\u001b[38;5;124m'\u001b[39m\n\u001b[1;32m    907\u001b[0m                     \u001b[38;5;124m'\u001b[39m\u001b[38;5;124m1 positional argument\u001b[39m\u001b[38;5;124m'\u001b[39m)\n\u001b[0;32m--> 909\u001b[0m \u001b[38;5;28;01mreturn\u001b[39;00m \u001b[43mdispatch\u001b[49m\u001b[43m(\u001b[49m\u001b[43margs\u001b[49m\u001b[43m[\u001b[49m\u001b[38;5;241;43m0\u001b[39;49m\u001b[43m]\u001b[49m\u001b[38;5;241;43m.\u001b[39;49m\u001b[38;5;18;43m__class__\u001b[39;49m\u001b[43m)\u001b[49m\u001b[43m(\u001b[49m\u001b[38;5;241;43m*\u001b[39;49m\u001b[43margs\u001b[49m\u001b[43m,\u001b[49m\u001b[43m \u001b[49m\u001b[38;5;241;43m*\u001b[39;49m\u001b[38;5;241;43m*\u001b[39;49m\u001b[43mkw\u001b[49m\u001b[43m)\u001b[49m\n",
      "\u001b[0;31mTypeError\u001b[0m: Calculadora.sumar() takes 3 positional arguments but 4 were given"
     ]
    }
   ],
   "source": [
    "calc = Calculadora()\n",
    "\n",
    "# Usar el método sumar con dos enteros\n",
    "resultado1 = calc.sumar(1, 2)\n",
    "print(f\"Resultado de sumar 1 y 2: {resultado1}\")\n",
    "\n",
    "# Usar el método sumar con dos flotantes\n",
    "resultado3 = calc.sumar(1.5, 2.5)\n",
    "print(f\"Resultado de sumar 1.5 y 2.5: {resultado3}\")\n",
    "\n",
    "# Usar el método sumar con tres enteros\n",
    "resultado2 = calc.sumar(1, 2, 3)\n",
    "print(f\"Resultado de sumar 1, 2 y 3: {resultado2}\")"
   ]
  },
  {
   "cell_type": "code",
   "execution_count": 14,
   "metadata": {},
   "outputs": [
    {
     "name": "stdout",
     "output_type": "stream",
     "text": [
      "Procesando un entero: 10\n",
      "Procesando una lista: [1, 2, 3]\n",
      "Tipo no soportado: <class 'str'>\n"
     ]
    }
   ],
   "source": [
    "from functools import singledispatch\n",
    "\n",
    "@singledispatch\n",
    "def procesar_dato(arg):\n",
    "    print(f\"Tipo no soportado: {type(arg)}\")\n",
    "\n",
    "@procesar_dato.register\n",
    "def _(arg: int):\n",
    "    print(f\"Procesando un entero: {arg}\")\n",
    "\n",
    "@procesar_dato.register\n",
    "def _(arg: list):\n",
    "    print(f\"Procesando una lista: {arg}\")\n",
    "\n",
    "procesar_dato(10)       # Salida: Procesando un entero: 10\n",
    "procesar_dato([1, 2, 3]) # Salida: Procesando una lista: [1, 2, 3]\n",
    "procesar_dato(\"texto\")  # Salida: Tipo no soportado: <class 'str'>"
   ]
  },
  {
   "cell_type": "code",
   "execution_count": 31,
   "metadata": {},
   "outputs": [
    {
     "name": "stdout",
     "output_type": "stream",
     "text": [
      "-5\n",
      "False\n"
     ]
    }
   ],
   "source": [
    "from functools import singledispatchmethod\n",
    "\n",
    "class Negador:\n",
    "    @singledispatchmethod\n",
    "    def negar(self, arg):\n",
    "        raise NotImplementedError(\"No se puede negar este tipo de dato\")\n",
    "\n",
    "    @negar.register\n",
    "    def _(self, arg: int):\n",
    "        \"\"\" Negar un número entero \"\"\"\n",
    "        return -arg\n",
    "\n",
    "    @negar.register\n",
    "    def _(self, arg: bool):\n",
    "        return not arg\n",
    "\n",
    "negador = Negador()\n",
    "print(negador.negar(5))  # Salida: -5\n",
    "print(negador.negar(True))  # Salida: False"
   ]
  },
  {
   "cell_type": "code",
   "execution_count": 16,
   "metadata": {},
   "outputs": [
    {
     "name": "stdout",
     "output_type": "stream",
     "text": [
      "Número: 3.14\n",
      "Elementos:\n",
      "0 a\n",
      "1 b\n"
     ]
    }
   ],
   "source": [
    "from functools import singledispatch\n",
    "from typing import Union\n",
    "\n",
    "@singledispatch\n",
    "def mostrar(arg):\n",
    "    print(\"Tipo no soportado\")\n",
    "\n",
    "@mostrar.register\n",
    "def _(arg: int | float):\n",
    "    print(f\"Número: {arg}\")\n",
    "\n",
    "@mostrar.register\n",
    "def _(arg: Union[list, set]):\n",
    "    print(\"Elementos:\")\n",
    "    for i, elem in enumerate(arg):\n",
    "        print(i, elem)\n",
    "\n",
    "mostrar(3.14)  # Salida: Número: 3.14\n",
    "mostrar({\"a\", \"b\"})  # Salida: Elementos:\\n 0 a\\n 1 b"
   ]
  },
  {
   "cell_type": "code",
   "execution_count": 17,
   "metadata": {},
   "outputs": [
    {
     "name": "stdout",
     "output_type": "stream",
     "text": [
      "<function _ at 0x7f98b8dd8e00>\n",
      "dict_keys([<class 'object'>, <class 'int'>, <class 'float'>, <class 'list'>, <class 'set'>])\n"
     ]
    }
   ],
   "source": [
    "print(mostrar.dispatch(int))  # Salida: <function _ at 0x...>\n",
    "print(mostrar.registry.keys())  # Salida: dict_keys([<class 'object'>, <class 'int'>, <class 'float'>, <class 'list'>, <class 'set'>])"
   ]
  },
  {
   "cell_type": "markdown",
   "metadata": {},
   "source": [
    "# multipledispatch"
   ]
  },
  {
   "cell_type": "code",
   "execution_count": 21,
   "metadata": {},
   "outputs": [
    {
     "name": "stdout",
     "output_type": "stream",
     "text": [
      "Collecting multipledispatch\n",
      "  Downloading multipledispatch-1.0.0-py3-none-any.whl.metadata (3.8 kB)\n",
      "Downloading multipledispatch-1.0.0-py3-none-any.whl (12 kB)\n",
      "Installing collected packages: multipledispatch\n",
      "Successfully installed multipledispatch-1.0.0\n",
      "Note: you may need to restart the kernel to use updated packages.\n"
     ]
    }
   ],
   "source": [
    "%pip install multipledispatch"
   ]
  },
  {
   "cell_type": "code",
   "execution_count": 4,
   "metadata": {},
   "outputs": [
    {
     "name": "stdout",
     "output_type": "stream",
     "text": [
      "3\n",
      "1 + hello\n",
      "6\n"
     ]
    }
   ],
   "source": [
    "from multipledispatch import dispatch\n",
    "\n",
    "@dispatch(int, int)\n",
    "def add(x, y):\n",
    "    return x + y\n",
    "\n",
    "@dispatch(object, object)\n",
    "def add(x, y):\n",
    "    return \"%s + %s\" % (x, y) #los %s son para convertir a string\n",
    "\n",
    "@dispatch(int, int, int)\n",
    "def add( a, b, c):\n",
    "        n = a + b \n",
    "        return n + c\n",
    "\n",
    "print(add(1, 2))  # Salida: 3\n",
    "print(add(1, 'hello'))  # Salida: '1 + hello'\n",
    "print(add(1, 2, 3))  # Salida: 6\n"
   ]
  }
 ],
 "metadata": {
  "kernelspec": {
   "display_name": ".venv",
   "language": "python",
   "name": "python3"
  },
  "language_info": {
   "codemirror_mode": {
    "name": "ipython",
    "version": 3
   },
   "file_extension": ".py",
   "mimetype": "text/x-python",
   "name": "python",
   "nbconvert_exporter": "python",
   "pygments_lexer": "ipython3",
   "version": "3.11.2"
  }
 },
 "nbformat": 4,
 "nbformat_minor": 2
}
